{
  "nbformat": 4,
  "nbformat_minor": 0,
  "metadata": {
    "colab": {
      "name": "17-02fairseq.ipynb",
      "provenance": [],
      "collapsed_sections": [],
      "mount_file_id": "1KKRpehdqxMtn0SX7j62h-8NlIFfXEeC9",
      "authorship_tag": "ABX9TyMu1wGsddVc//tfn71nnKeq",
      "include_colab_link": true
    },
    "kernelspec": {
      "name": "python3",
      "display_name": "Python 3"
    }
  },
  "cells": [
    {
      "cell_type": "markdown",
      "metadata": {
        "id": "view-in-github",
        "colab_type": "text"
      },
      "source": [
        "<a href=\"https://colab.research.google.com/github/Meghraj-Webllisto/language-translation/blob/master/17_02fairseq.ipynb\" target=\"_parent\"><img src=\"https://colab.research.google.com/assets/colab-badge.svg\" alt=\"Open In Colab\"/></a>"
      ]
    },
    {
      "cell_type": "markdown",
      "metadata": {
        "id": "4mCRKAqzPSey",
        "colab_type": "text"
      },
      "source": [
        "# working on prepairing training data fo coustom language chinese or japense or korean"
      ]
    },
    {
      "cell_type": "code",
      "metadata": {
        "id": "fyrOZH3GPdTQ",
        "colab_type": "code",
        "colab": {
          "base_uri": "https://localhost:8080/",
          "height": 34
        },
        "outputId": "af90d9a1-716f-433a-c500-e8e9bc136a1f"
      },
      "source": [
        "cd /content/drive/My Drive/fairseq"
      ],
      "execution_count": 1,
      "outputs": [
        {
          "output_type": "stream",
          "text": [
            "/content/drive/My Drive/fairseq\n"
          ],
          "name": "stdout"
        }
      ]
    },
    {
      "cell_type": "code",
      "metadata": {
        "id": "cK1abx8rPocZ",
        "colab_type": "code",
        "colab": {
          "base_uri": "https://localhost:8080/",
          "height": 119
        },
        "outputId": "3f3a94ba-a27c-491f-9124-bca287b60346"
      },
      "source": [
        "ls"
      ],
      "execution_count": 2,
      "outputs": [
        {
          "output_type": "stream",
          "text": [
            "\u001b[0m\u001b[01;34mbuild\u001b[0m/              \u001b[01;34mexamples\u001b[0m/          generate.py     score.py\n",
            "CODE_OF_CONDUCT.md  \u001b[01;34mfairseq\u001b[0m/           hubconf.py      \u001b[01;34mscripts\u001b[0m/\n",
            "CONTRIBUTING.md     \u001b[01;34mfairseq_cli\u001b[0m/       interactive.py  setup.py\n",
            "\u001b[01;34mdist\u001b[0m/               \u001b[01;34mfairseq.egg-info\u001b[0m/  LICENSE         \u001b[01;34mtests\u001b[0m/\n",
            "\u001b[01;34mdocs\u001b[0m/               fairseq.gif        preprocess.py   train.py\n",
            "eval_lm.py          fairseq_logo.png   README.md       validate.py\n"
          ],
          "name": "stdout"
        }
      ]
    },
    {
      "cell_type": "code",
      "metadata": {
        "id": "xMrm2vNYPpak",
        "colab_type": "code",
        "colab": {
          "base_uri": "https://localhost:8080/",
          "height": 34
        },
        "outputId": "728c920a-cc3c-4f94-a816-5f6d920674bf"
      },
      "source": [
        "cd scripts "
      ],
      "execution_count": 3,
      "outputs": [
        {
          "output_type": "stream",
          "text": [
            "/content/drive/My Drive/fairseq/scripts\n"
          ],
          "name": "stdout"
        }
      ]
    },
    {
      "cell_type": "code",
      "metadata": {
        "id": "S4C6ThI9PsyW",
        "colab_type": "code",
        "colab": {
          "base_uri": "https://localhost:8080/",
          "height": 119
        },
        "outputId": "9fdc7172-1abe-417c-d12d-30805b1fe296"
      },
      "source": [
        "ls"
      ],
      "execution_count": 4,
      "outputs": [
        {
          "output_type": "stream",
          "text": [
            "average_checkpoints.py  count_docs.py        split_train_valid_docs.py\n",
            "build_sym_alignment.py  __init__.py          spm_decode.py\n",
            "compare_namespaces.py   read_binarized.py    spm_encode.py\n",
            "compound_split_bleu.sh  rm_pt.py             spm_train.py\n",
            "convert_dictionary.lua  sacrebleu_pregen.sh  wav2vec_featurize.py\n",
            "convert_model.lua       shard_docs.py        wav2vec_manifest.py\n"
          ],
          "name": "stdout"
        }
      ]
    },
    {
      "cell_type": "code",
      "metadata": {
        "id": "fQaTAfB7Pt97",
        "colab_type": "code",
        "colab": {
          "base_uri": "https://localhost:8080/",
          "height": 34
        },
        "outputId": "eda4adea-a59d-4bc5-d10b-d8743c56006c"
      },
      "source": [
        "cd .."
      ],
      "execution_count": 5,
      "outputs": [
        {
          "output_type": "stream",
          "text": [
            "/content/drive/My Drive/fairseq\n"
          ],
          "name": "stdout"
        }
      ]
    },
    {
      "cell_type": "code",
      "metadata": {
        "id": "SOlq_gm8P1ef",
        "colab_type": "code",
        "colab": {}
      },
      "source": [
        ""
      ],
      "execution_count": 0,
      "outputs": []
    }
  ]
}